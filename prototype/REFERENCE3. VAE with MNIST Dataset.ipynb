{
 "cells": [
  {
   "cell_type": "markdown",
   "metadata": {},
   "source": [
    "# VAE with MNIST Dataset\n",
    "\n",
    "- model=VAE() in vae.py\n",
    "- loss_function() in loss_function.py"
   ]
  },
  {
   "cell_type": "markdown",
   "metadata": {},
   "source": [
    "## Load packages"
   ]
  },
  {
   "cell_type": "code",
   "execution_count": 1,
   "metadata": {},
   "outputs": [],
   "source": [
    "%matplotlib inline\n",
    "%load_ext autoreload\n",
    "%autoreload 2"
   ]
  },
  {
   "cell_type": "code",
   "execution_count": 2,
   "metadata": {},
   "outputs": [],
   "source": [
    "import os\n",
    "import torch\n",
    "import torch.utils.data\n",
    "from torch import optim\n",
    "from torch.autograd import Variable\n",
    "from torchvision import datasets, transforms\n",
    "import matplotlib.pyplot as plt\n",
    "import copy\n",
    "\n",
    "from vae import VAE\n",
    "from loss_function import loss_function"
   ]
  },
  {
   "cell_type": "markdown",
   "metadata": {},
   "source": [
    "## Hyperparameters"
   ]
  },
  {
   "cell_type": "code",
   "execution_count": 3,
   "metadata": {},
   "outputs": [],
   "source": [
    "input_dim = 784\n",
    "hdims = 400\n",
    "seed = 25\n",
    "batch_size = 128\n",
    "epochs = 30\n",
    "zdims = 2"
   ]
  },
  {
   "cell_type": "markdown",
   "metadata": {},
   "source": [
    "## Set random seed"
   ]
  },
  {
   "cell_type": "code",
   "execution_count": 4,
   "metadata": {},
   "outputs": [
    {
     "data": {
      "text/plain": [
       "<torch._C.Generator at 0x1163734b0>"
      ]
     },
     "execution_count": 4,
     "metadata": {},
     "output_type": "execute_result"
    }
   ],
   "source": [
    "torch.manual_seed(seed)"
   ]
  },
  {
   "cell_type": "markdown",
   "metadata": {},
   "source": [
    "## Load MNIST dataset\n",
    "\n",
    "- Dataset : numpy, pandas, rawdata?\n",
    "- DataLoader : batch단위로 데이터를 불러오는데 -> 편하게 해주는? Wrapper"
   ]
  },
  {
   "cell_type": "code",
   "execution_count": null,
   "metadata": {},
   "outputs": [],
   "source": [
    "train_data = datasets.MNIST('data', train=True, download=True, transform=transforms.ToTensor())"
   ]
  },
  {
   "cell_type": "code",
   "execution_count": 5,
   "metadata": {},
   "outputs": [],
   "source": [
    "train_loader = torch.utils.data.DataLoader(train_data, batch_size=batch_size, shuffle=True)"
   ]
  },
  {
   "cell_type": "code",
   "execution_count": 6,
   "metadata": {},
   "outputs": [],
   "source": [
    "test_loader = torch.utils.data.DataLoader(\n",
    "    datasets.MNIST('data', train=False, transform=transforms.ToTensor()),\n",
    "    batch_size=batch_size, shuffle=True)"
   ]
  },
  {
   "cell_type": "markdown",
   "metadata": {},
   "source": [
    "## Load model, optimizer"
   ]
  },
  {
   "cell_type": "code",
   "execution_count": 7,
   "metadata": {},
   "outputs": [],
   "source": [
    "model = VAE(input_dim, zdims, hdims)"
   ]
  },
  {
   "cell_type": "code",
   "execution_count": 8,
   "metadata": {},
   "outputs": [],
   "source": [
    "optimizer = optim.Adam(model.parameters(), lr=1e-3)"
   ]
  },
  {
   "cell_type": "markdown",
   "metadata": {},
   "source": [
    "## Train"
   ]
  },
  {
   "cell_type": "code",
   "execution_count": 9,
   "metadata": {},
   "outputs": [],
   "source": [
    "def train(epoch) : \n",
    "    \n",
    "    train_loss = 0\n",
    "    loss_train = []\n",
    "    loss_valid = []\n",
    "    \n",
    "    # get loss for whole validation set\n",
    "    loss_valid.append(validate(1))\n",
    "    \n",
    "    model.train() # toggle train mode\n",
    "    \n",
    "    # get batch loss for train set and backpropate\n",
    "    for batch_idx, (data, _) in enumerate(train_loader) :\n",
    "        data = Variable(data)\n",
    "        optimizer.zero_grad()\n",
    "        \n",
    "        # Propagate\n",
    "        recon_batch, mu, logvar = model(data)\n",
    "        \n",
    "        # Get loss value\n",
    "        loss = loss_function(recon_batch, data, mu, logvar, batch_size, input_dim)\n",
    "        \n",
    "        # Backpropagate\n",
    "        loss.backward()\n",
    "        train_loss += loss.item()\n",
    "        \n",
    "        # Update weights\n",
    "        optimizer.step()\n",
    "            \n",
    "    print('====> Epoch: {} Average loss: {:.4f}'.format(\n",
    "          epoch, train_loss / len(train_loader.dataset)))\n",
    "      \n",
    "    # append to list 'loss_train' instance to plot later\n",
    "    loss_train.append(train_loss / len(train_loader.dataset))\n",
    "    \n",
    "    return loss_train, loss_valid\n",
    "    \n",
    "    \n",
    "with torch.no_grad() :\n",
    "    dfsdfsdkjfsldkjflsdkjflksf\n",
    "    \n",
    "def validate(epoch) : \n",
    "    model.eval() # toggle inference mode\n",
    "    valid_loss = 0\n",
    "    \n",
    "    \n",
    "    for i, (data, _) in enumerate(test_loader) :\n",
    "        data = Variable(data)\n",
    "        \n",
    "        # Propagate\n",
    "        recon_batch, mu, logvar = model(data)\n",
    "        \n",
    "        # Get loss value\n",
    "        valid_loss += loss_function(recon_batch, data, mu, logvar, batch_size, input_dim).item()\n",
    "\n",
    "    valid_loss /= len(test_loader.dataset)\n",
    "    print('====> Validation set loss: {:.4f}'.format(valid_loss))\n",
    "    \n",
    "    return valid_loss"
   ]
  },
  {
   "cell_type": "code",
   "execution_count": 10,
   "metadata": {},
   "outputs": [
    {
     "name": "stdout",
     "output_type": "stream",
     "text": [
      "====> Validation set loss: 0.0055\n",
      "====> Epoch: 1 Average loss: 0.0019\n",
      "====> Validation set loss: 0.0017\n",
      "====> Epoch: 2 Average loss: 0.0017\n",
      "====> Validation set loss: 0.0016\n",
      "====> Epoch: 3 Average loss: 0.0016\n",
      "====> Validation set loss: 0.0016\n",
      "====> Epoch: 4 Average loss: 0.0016\n",
      "====> Validation set loss: 0.0016\n",
      "====> Epoch: 5 Average loss: 0.0016\n",
      "====> Validation set loss: 0.0016\n",
      "====> Epoch: 6 Average loss: 0.0016\n",
      "====> Validation set loss: 0.0016\n",
      "====> Epoch: 7 Average loss: 0.0016\n",
      "====> Validation set loss: 0.0016\n",
      "====> Epoch: 8 Average loss: 0.0016\n",
      "====> Validation set loss: 0.0016\n",
      "====> Epoch: 9 Average loss: 0.0016\n",
      "====> Validation set loss: 0.0016\n",
      "====> Epoch: 10 Average loss: 0.0015\n",
      "====> Validation set loss: 0.0016\n",
      "====> Epoch: 11 Average loss: 0.0015\n",
      "====> Validation set loss: 0.0016\n",
      "====> Epoch: 12 Average loss: 0.0015\n",
      "====> Validation set loss: 0.0016\n",
      "====> Epoch: 13 Average loss: 0.0015\n",
      "====> Validation set loss: 0.0015\n",
      "====> Epoch: 14 Average loss: 0.0015\n",
      "====> Validation set loss: 0.0015\n",
      "====> Epoch: 15 Average loss: 0.0015\n",
      "====> Validation set loss: 0.0015\n",
      "====> Epoch: 16 Average loss: 0.0015\n",
      "====> Validation set loss: 0.0015\n",
      "====> Epoch: 17 Average loss: 0.0015\n",
      "====> Validation set loss: 0.0015\n",
      "====> Epoch: 18 Average loss: 0.0015\n",
      "====> Validation set loss: 0.0015\n",
      "====> Epoch: 19 Average loss: 0.0015\n",
      "====> Validation set loss: 0.0015\n",
      "====> Epoch: 20 Average loss: 0.0015\n",
      "====> Validation set loss: 0.0015\n",
      "====> Epoch: 21 Average loss: 0.0015\n",
      "====> Validation set loss: 0.0015\n",
      "====> Epoch: 22 Average loss: 0.0015\n",
      "====> Validation set loss: 0.0015\n",
      "====> Epoch: 23 Average loss: 0.0015\n",
      "====> Validation set loss: 0.0015\n",
      "====> Epoch: 24 Average loss: 0.0015\n",
      "====> Validation set loss: 0.0015\n",
      "====> Epoch: 25 Average loss: 0.0015\n",
      "====> Validation set loss: 0.0015\n",
      "====> Epoch: 26 Average loss: 0.0015\n",
      "====> Validation set loss: 0.0015\n",
      "====> Epoch: 27 Average loss: 0.0015\n",
      "====> Validation set loss: 0.0015\n",
      "====> Epoch: 28 Average loss: 0.0015\n",
      "====> Validation set loss: 0.0015\n",
      "====> Epoch: 29 Average loss: 0.0015\n",
      "====> Validation set loss: 0.0015\n",
      "====> Epoch: 30 Average loss: 0.0015\n"
     ]
    }
   ],
   "source": [
    "loss_train = []\n",
    "loss_valid = []\n",
    "lowest_valid_loss = 0\n",
    "best_model = copy.deepcopy(model)\n",
    "\n",
    "for epoch in range(1, epochs+1) :\n",
    "    temp_train, temp_valid = train(epoch)\n",
    "    \n",
    "    if epoch == 1 :\n",
    "        lowest_valid_loss = temp_valid\n",
    "    else :\n",
    "        if temp_valid <= lowest_valid_loss :\n",
    "            lowest_valid_loss = temp_valid\n",
    "            best_model = copy.deepcopy(model)\n",
    "            \n",
    "    loss_train.append(temp_train)\n",
    "    loss_valid.append(temp_valid)"
   ]
  },
  {
   "cell_type": "markdown",
   "metadata": {},
   "source": [
    "## Check how model trained"
   ]
  },
  {
   "cell_type": "code",
   "execution_count": 11,
   "metadata": {},
   "outputs": [
    {
     "data": {
      "image/png": "[encoded data removed]",
      "text/plain": [
       "<Figure size 432x288 with 1 Axes>"
      ]
     },
     "metadata": {
      "needs_background": "light"
     },
     "output_type": "display_data"
    }
   ],
   "source": [
    "plt.plot(loss_train, label='train loss')\n",
    "plt.plot(loss_valid, label='validation loss')\n",
    "plt.title('Loss upon epochs')\n",
    "plt.xlabel('epochs')\n",
    "plt.ylabel('log loss')\n",
    "plt.yscale('log')\n",
    "plt.legend()\n",
    "plt.show()"
   ]
  }
 ],
 "metadata": {
  "kernelspec": {
   "display_name": "Python 3",
   "language": "python",
   "name": "python3"
  },
  "language_info": {
   "codemirror_mode": {
    "name": "ipython",
    "version": 3
   },
   "file_extension": ".py",
   "mimetype": "text/x-python",
   "name": "python",
   "nbconvert_exporter": "python",
   "pygments_lexer": "ipython3",
   "version": "3.8.5"
  }
 },
 "nbformat": 4,
 "nbformat_minor": 2
}
