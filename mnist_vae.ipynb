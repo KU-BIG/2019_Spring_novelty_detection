{
 "cells": [
  {
   "cell_type": "markdown",
   "metadata": {},
   "source": [
    "# VAE with MNIST Dataset\n",
    "\n",
    "- model=VAE() in vae.py\n",
    "- loss_function() in loss_function.py"
   ]
  },
  {
   "cell_type": "markdown",
   "metadata": {},
   "source": [
    "## Load packages"
   ]
  },
  {
   "cell_type": "code",
   "execution_count": 2,
   "metadata": {},
   "outputs": [],
   "source": [
    "%matplotlib inline\n",
    "%load_ext autoreload\n",
    "%autoreload 2"
   ]
  },
  {
   "cell_type": "code",
   "execution_count": 1,
   "metadata": {},
   "outputs": [],
   "source": [
    "import os\n",
    "import torch\n",
    "import torch.utils.data\n",
    "from torch import optim\n",
    "from torch.autograd import Variable\n",
    "from torchvision import datasets, transforms\n",
    "import matplotlib.pyplot as plt\n",
    "\n",
    "from vae import VAE\n",
    "from loss_function import loss_function"
   ]
  },
  {
   "cell_type": "markdown",
   "metadata": {},
   "source": [
    "## Hyperparameters"
   ]
  },
  {
   "cell_type": "code",
   "execution_count": 3,
   "metadata": {},
   "outputs": [],
   "source": [
    "seed = 1\n",
    "batch_size = 128\n",
    "log_interval = 10\n",
    "epochs = 100\n",
    "zdims = 20"
   ]
  },
  {
   "cell_type": "markdown",
   "metadata": {},
   "source": [
    "## Set random seed"
   ]
  },
  {
   "cell_type": "code",
   "execution_count": 4,
   "metadata": {},
   "outputs": [
    {
     "data": {
      "text/plain": [
       "<torch._C.Generator at 0x1152ba650>"
      ]
     },
     "execution_count": 4,
     "metadata": {},
     "output_type": "execute_result"
    }
   ],
   "source": [
    "torch.manual_seed(seed)"
   ]
  },
  {
   "cell_type": "markdown",
   "metadata": {},
   "source": [
    "## Load MNIST dataset"
   ]
  },
  {
   "cell_type": "code",
   "execution_count": 5,
   "metadata": {},
   "outputs": [],
   "source": [
    "train_loader = torch.utils.data.DataLoader(\n",
    "    datasets.MNIST('data', train=True, download=True,\n",
    "                   transform=transforms.ToTensor()),\n",
    "    batch_size=batch_size, shuffle=True)"
   ]
  },
  {
   "cell_type": "code",
   "execution_count": 6,
   "metadata": {},
   "outputs": [],
   "source": [
    "test_loader = torch.utils.data.DataLoader(\n",
    "    datasets.MNIST('data', train=False, transform=transforms.ToTensor()),\n",
    "    batch_size=batch_size, shuffle=True)"
   ]
  },
  {
   "cell_type": "markdown",
   "metadata": {},
   "source": [
    "## Load model, optimizer"
   ]
  },
  {
   "cell_type": "code",
   "execution_count": 7,
   "metadata": {},
   "outputs": [],
   "source": [
    "model = VAE(zdims)"
   ]
  },
  {
   "cell_type": "code",
   "execution_count": 8,
   "metadata": {},
   "outputs": [],
   "source": [
    "optimizer = optim.Adam(model.parameters(), lr=1e-3)"
   ]
  },
  {
   "cell_type": "markdown",
   "metadata": {},
   "source": [
    "## Train"
   ]
  },
  {
   "cell_type": "code",
   "execution_count": 9,
   "metadata": {},
   "outputs": [],
   "source": [
    "def train(epoch) : \n",
    "    model.train() # toggle train mode\n",
    "    train_loss = 0\n",
    "    loss_train = []\n",
    "    loss_valid = []\n",
    "    \n",
    "    # get batch loss for train set and backpropate\n",
    "    for batch_idx, (data, _) in enumerate(train_loader) :\n",
    "        data = Variable(data)\n",
    "        optimizer.zero_grad()\n",
    "        \n",
    "        # Propagate\n",
    "        recon_batch, mu, logvar = model(data)\n",
    "        \n",
    "        # Get loss value\n",
    "        loss = loss_function(recon_batch, data, mu, logvar, batch_size)\n",
    "        \n",
    "        # Backpropagate\n",
    "        loss.backward()\n",
    "        train_loss += loss.item()\n",
    "        \n",
    "        # Update weights\n",
    "        optimizer.step()\n",
    "        \n",
    "        # Inform\n",
    "        '''\n",
    "        if batch_idx % log_interval == 0 :\n",
    "            print('Train Epoch: {} [{}/{} ({:.0f}%)]\\tLoss: {:.6f}'.format(\n",
    "                epoch, batch_idx * len(data), len(train_loader.dataset),\n",
    "                100. * batch_idx / len(train_loader),\n",
    "                loss.item() / len(data)))\n",
    "        '''\n",
    "            \n",
    "            \n",
    "    print('====> Epoch: {} Average loss: {:.4f}'.format(\n",
    "          epoch, train_loss / len(train_loader.dataset)))\n",
    "    \n",
    "    # get loss for whole validation set\n",
    "    loss_valid.append(validate(1))\n",
    "    \n",
    "    # append to list 'loss_train' instance to plot later\n",
    "    loss_train.append(train_loss / len(train_loader.dataset))\n",
    "    \n",
    "    return loss_train, loss_valid\n",
    "    \n",
    "    \n",
    "def validate(epoch) : \n",
    "    model.eval() # toggle inference mode\n",
    "    test_loss = 0\n",
    "    \n",
    "    for i, (data, _) in enumerate(test_loader) :\n",
    "        data = Variable(data)\n",
    "        \n",
    "        # Propagate\n",
    "        recon_batch, mu, logvar = model(data)\n",
    "        \n",
    "        # Get loss value\n",
    "        test_loss += loss_function(recon_batch, data, mu, logvar, batch_size).item()\n",
    "        \n",
    "        # Inform\n",
    "        if i == 0:\n",
    "            n = min(data.size(0), 8)\n",
    "\n",
    "    test_loss /= len(test_loader.dataset)\n",
    "    print('====> Test set loss: {:.4f}'.format(test_loss))\n",
    "    \n",
    "    return test_loss"
   ]
  },
  {
   "cell_type": "code",
   "execution_count": 10,
   "metadata": {},
   "outputs": [
    {
     "name": "stdout",
     "output_type": "stream",
     "text": [
      "====> Epoch: 1 Average loss: 0.0016\n",
      "====> Test set loss: 0.0012\n",
      "====> Epoch: 2 Average loss: 0.0012\n",
      "====> Test set loss: 0.0011\n",
      "====> Epoch: 3 Average loss: 0.0011\n",
      "====> Test set loss: 0.0010\n",
      "====> Epoch: 4 Average loss: 0.0011\n",
      "====> Test set loss: 0.0010\n",
      "====> Epoch: 5 Average loss: 0.0011\n",
      "====> Test set loss: 0.0010\n",
      "====> Epoch: 6 Average loss: 0.0011\n",
      "====> Test set loss: 0.0010\n",
      "====> Epoch: 7 Average loss: 0.0011\n",
      "====> Test set loss: 0.0010\n",
      "====> Epoch: 8 Average loss: 0.0011\n",
      "====> Test set loss: 0.0010\n",
      "====> Epoch: 9 Average loss: 0.0011\n",
      "====> Test set loss: 0.0010\n",
      "====> Epoch: 10 Average loss: 0.0011\n",
      "====> Test set loss: 0.0010\n",
      "====> Epoch: 11 Average loss: 0.0011\n",
      "====> Test set loss: 0.0010\n",
      "====> Epoch: 12 Average loss: 0.0010\n",
      "====> Test set loss: 0.0010\n",
      "====> Epoch: 13 Average loss: 0.0010\n",
      "====> Test set loss: 0.0010\n",
      "====> Epoch: 14 Average loss: 0.0010\n",
      "====> Test set loss: 0.0010\n",
      "====> Epoch: 15 Average loss: 0.0010\n",
      "====> Test set loss: 0.0010\n",
      "====> Epoch: 16 Average loss: 0.0010\n",
      "====> Test set loss: 0.0010\n",
      "====> Epoch: 17 Average loss: 0.0010\n",
      "====> Test set loss: 0.0010\n",
      "====> Epoch: 18 Average loss: 0.0010\n",
      "====> Test set loss: 0.0010\n",
      "====> Epoch: 19 Average loss: 0.0010\n",
      "====> Test set loss: 0.0010\n",
      "====> Epoch: 20 Average loss: 0.0010\n",
      "====> Test set loss: 0.0010\n",
      "====> Epoch: 21 Average loss: 0.0010\n",
      "====> Test set loss: 0.0010\n",
      "====> Epoch: 22 Average loss: 0.0010\n",
      "====> Test set loss: 0.0010\n",
      "====> Epoch: 23 Average loss: 0.0010\n",
      "====> Test set loss: 0.0010\n",
      "====> Epoch: 24 Average loss: 0.0010\n",
      "====> Test set loss: 0.0010\n",
      "====> Epoch: 25 Average loss: 0.0010\n",
      "====> Test set loss: 0.0009\n",
      "====> Epoch: 26 Average loss: 0.0010\n",
      "====> Test set loss: 0.0009\n",
      "====> Epoch: 27 Average loss: 0.0010\n",
      "====> Test set loss: 0.0010\n",
      "====> Epoch: 28 Average loss: 0.0010\n",
      "====> Test set loss: 0.0009\n",
      "====> Epoch: 29 Average loss: 0.0010\n",
      "====> Test set loss: 0.0009\n",
      "====> Epoch: 30 Average loss: 0.0010\n",
      "====> Test set loss: 0.0009\n",
      "====> Epoch: 31 Average loss: 0.0010\n",
      "====> Test set loss: 0.0009\n",
      "====> Epoch: 32 Average loss: 0.0010\n",
      "====> Test set loss: 0.0009\n",
      "====> Epoch: 33 Average loss: 0.0010\n",
      "====> Test set loss: 0.0009\n",
      "====> Epoch: 34 Average loss: 0.0010\n",
      "====> Test set loss: 0.0009\n",
      "====> Epoch: 35 Average loss: 0.0010\n",
      "====> Test set loss: 0.0009\n",
      "====> Epoch: 36 Average loss: 0.0010\n",
      "====> Test set loss: 0.0009\n",
      "====> Epoch: 37 Average loss: 0.0010\n",
      "====> Test set loss: 0.0009\n",
      "====> Epoch: 38 Average loss: 0.0010\n",
      "====> Test set loss: 0.0009\n",
      "====> Epoch: 39 Average loss: 0.0010\n",
      "====> Test set loss: 0.0009\n",
      "====> Epoch: 40 Average loss: 0.0010\n",
      "====> Test set loss: 0.0009\n",
      "====> Epoch: 41 Average loss: 0.0010\n",
      "====> Test set loss: 0.0009\n",
      "====> Epoch: 42 Average loss: 0.0010\n",
      "====> Test set loss: 0.0009\n",
      "====> Epoch: 43 Average loss: 0.0010\n",
      "====> Test set loss: 0.0009\n",
      "====> Epoch: 44 Average loss: 0.0010\n",
      "====> Test set loss: 0.0009\n",
      "====> Epoch: 45 Average loss: 0.0010\n",
      "====> Test set loss: 0.0009\n",
      "====> Epoch: 46 Average loss: 0.0010\n",
      "====> Test set loss: 0.0009\n",
      "====> Epoch: 47 Average loss: 0.0010\n",
      "====> Test set loss: 0.0009\n",
      "====> Epoch: 48 Average loss: 0.0010\n",
      "====> Test set loss: 0.0009\n",
      "====> Epoch: 49 Average loss: 0.0010\n",
      "====> Test set loss: 0.0009\n",
      "====> Epoch: 50 Average loss: 0.0010\n",
      "====> Test set loss: 0.0009\n",
      "====> Epoch: 51 Average loss: 0.0010\n",
      "====> Test set loss: 0.0009\n",
      "====> Epoch: 52 Average loss: 0.0010\n",
      "====> Test set loss: 0.0009\n",
      "====> Epoch: 53 Average loss: 0.0010\n",
      "====> Test set loss: 0.0009\n",
      "====> Epoch: 54 Average loss: 0.0010\n",
      "====> Test set loss: 0.0009\n",
      "====> Epoch: 55 Average loss: 0.0010\n",
      "====> Test set loss: 0.0009\n",
      "====> Epoch: 56 Average loss: 0.0010\n",
      "====> Test set loss: 0.0009\n",
      "====> Epoch: 57 Average loss: 0.0010\n",
      "====> Test set loss: 0.0009\n",
      "====> Epoch: 58 Average loss: 0.0010\n",
      "====> Test set loss: 0.0009\n",
      "====> Epoch: 59 Average loss: 0.0010\n",
      "====> Test set loss: 0.0009\n",
      "====> Epoch: 60 Average loss: 0.0010\n",
      "====> Test set loss: 0.0009\n",
      "====> Epoch: 61 Average loss: 0.0010\n",
      "====> Test set loss: 0.0009\n",
      "====> Epoch: 62 Average loss: 0.0010\n",
      "====> Test set loss: 0.0009\n",
      "====> Epoch: 63 Average loss: 0.0010\n",
      "====> Test set loss: 0.0009\n",
      "====> Epoch: 64 Average loss: 0.0010\n",
      "====> Test set loss: 0.0009\n",
      "====> Epoch: 65 Average loss: 0.0010\n",
      "====> Test set loss: 0.0009\n",
      "====> Epoch: 66 Average loss: 0.0010\n",
      "====> Test set loss: 0.0009\n",
      "====> Epoch: 67 Average loss: 0.0010\n",
      "====> Test set loss: 0.0009\n",
      "====> Epoch: 68 Average loss: 0.0010\n",
      "====> Test set loss: 0.0009\n",
      "====> Epoch: 69 Average loss: 0.0010\n",
      "====> Test set loss: 0.0009\n",
      "====> Epoch: 70 Average loss: 0.0010\n",
      "====> Test set loss: 0.0009\n",
      "====> Epoch: 71 Average loss: 0.0010\n",
      "====> Test set loss: 0.0009\n",
      "====> Epoch: 72 Average loss: 0.0010\n",
      "====> Test set loss: 0.0009\n",
      "====> Epoch: 73 Average loss: 0.0010\n",
      "====> Test set loss: 0.0009\n",
      "====> Epoch: 74 Average loss: 0.0010\n",
      "====> Test set loss: 0.0009\n",
      "====> Epoch: 75 Average loss: 0.0010\n",
      "====> Test set loss: 0.0009\n",
      "====> Epoch: 76 Average loss: 0.0010\n",
      "====> Test set loss: 0.0009\n",
      "====> Epoch: 77 Average loss: 0.0010\n",
      "====> Test set loss: 0.0009\n",
      "====> Epoch: 78 Average loss: 0.0010\n",
      "====> Test set loss: 0.0009\n",
      "====> Epoch: 79 Average loss: 0.0010\n",
      "====> Test set loss: 0.0009\n",
      "====> Epoch: 80 Average loss: 0.0010\n",
      "====> Test set loss: 0.0009\n",
      "====> Epoch: 81 Average loss: 0.0010\n",
      "====> Test set loss: 0.0009\n",
      "====> Epoch: 82 Average loss: 0.0010\n",
      "====> Test set loss: 0.0009\n",
      "====> Epoch: 83 Average loss: 0.0010\n",
      "====> Test set loss: 0.0009\n",
      "====> Epoch: 84 Average loss: 0.0010\n",
      "====> Test set loss: 0.0009\n",
      "====> Epoch: 85 Average loss: 0.0010\n",
      "====> Test set loss: 0.0009\n",
      "====> Epoch: 86 Average loss: 0.0010\n",
      "====> Test set loss: 0.0009\n",
      "====> Epoch: 87 Average loss: 0.0010\n",
      "====> Test set loss: 0.0009\n",
      "====> Epoch: 88 Average loss: 0.0010\n",
      "====> Test set loss: 0.0009\n",
      "====> Epoch: 89 Average loss: 0.0010\n",
      "====> Test set loss: 0.0009\n",
      "====> Epoch: 90 Average loss: 0.0010\n",
      "====> Test set loss: 0.0009\n",
      "====> Epoch: 91 Average loss: 0.0010\n",
      "====> Test set loss: 0.0009\n",
      "====> Epoch: 92 Average loss: 0.0010\n",
      "====> Test set loss: 0.0009\n",
      "====> Epoch: 93 Average loss: 0.0010\n",
      "====> Test set loss: 0.0009\n",
      "====> Epoch: 94 Average loss: 0.0010\n",
      "====> Test set loss: 0.0009\n",
      "====> Epoch: 95 Average loss: 0.0010\n",
      "====> Test set loss: 0.0009\n",
      "====> Epoch: 96 Average loss: 0.0010\n",
      "====> Test set loss: 0.0009\n",
      "====> Epoch: 97 Average loss: 0.0010\n",
      "====> Test set loss: 0.0009\n",
      "====> Epoch: 98 Average loss: 0.0010\n",
      "====> Test set loss: 0.0009\n",
      "====> Epoch: 99 Average loss: 0.0010\n",
      "====> Test set loss: 0.0009\n",
      "====> Epoch: 100 Average loss: 0.0010\n",
      "====> Test set loss: 0.0009\n"
     ]
    }
   ],
   "source": [
    "loss_train = []\n",
    "loss_valid = []\n",
    "\n",
    "for epoch in range(1, epochs+1) :\n",
    "    temp_train, temp_valid = train(epoch)\n",
    "    loss_train.append(temp_train)\n",
    "    loss_valid.append(temp_valid)\n",
    "    #test(epoch)\n",
    "    \n",
    "    sample = Variable(torch.randn(64, zdims))\n",
    "    sample = model.decode(sample).cpu()"
   ]
  },
  {
   "cell_type": "markdown",
   "metadata": {},
   "source": [
    "## Check how model trained"
   ]
  },
  {
   "cell_type": "code",
   "execution_count": 11,
   "metadata": {},
   "outputs": [
    {
     "data": {
      "image/png": "[encoded data removed]",
      "text/plain": [
       "<Figure size 432x288 with 1 Axes>"
      ]
     },
     "metadata": {
      "needs_background": "light"
     },
     "output_type": "display_data"
    }
   ],
   "source": [
    "plt.plot(loss_train, label='train loss')\n",
    "plt.plot(loss_valid, label='validation loss')\n",
    "plt.title('Loss upon epochs')\n",
    "plt.xlabel('epochs')\n",
    "plt.ylabel('loss')\n",
    "plt.legend()\n",
    "plt.show()"
   ]
  }
 ],
 "metadata": {
  "kernelspec": {
   "display_name": "Python 3",
   "language": "python",
   "name": "python3"
  },
  "language_info": {
   "codemirror_mode": {
    "name": "ipython",
    "version": 3
   },
   "file_extension": ".py",
   "mimetype": "text/x-python",
   "name": "python",
   "nbconvert_exporter": "python",
   "pygments_lexer": "ipython3",
   "version": "3.6.7"
  }
 },
 "nbformat": 4,
 "nbformat_minor": 2
}
