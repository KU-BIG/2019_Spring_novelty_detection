{
 "cells": [
  {
   "cell_type": "code",
   "execution_count": 1,
   "metadata": {},
   "outputs": [
    {
     "name": "stderr",
     "output_type": "stream",
     "text": [
      "C:\\Anaconda3\\lib\\site-packages\\sklearn\\externals\\six.py:31: DeprecationWarning: The module is deprecated in version 0.21 and will be removed in version 0.23 since we've dropped support for Python 2.7. Please rely on the official version of six (https://pypi.org/project/six/).\n",
      "  \"(https://pypi.org/project/six/).\", DeprecationWarning)\n"
     ]
    }
   ],
   "source": [
    "import numpy as np #linear algerbra\n",
    "import pandas as pd #data processing, csv file r/o\n",
    "\n",
    "from sklearn.utils import shuffle\n",
    "import matplotlib.pyplot as plt\n",
    "from sklearn.metrics import classification_report,confusion_matrix, roc_curve, auc, precision_recall_curve, roc_curve\n",
    "import seaborn as sns\n",
    "\n",
    "from sklearn.svm import SVC\n",
    "from sklearn.model_selection import StratifiedKFold\n",
    "from sklearn.feature_selection import RFECV\n",
    "from sklearn.datasets import make_classification\n",
    "\n",
    "from sklearn import discriminant_analysis\n",
    "\n",
    "from sklearn.model_selection import GridSearchCV\n",
    "\n",
    "from sklearn.metrics import classification_report\n",
    "from sklearn.svm import SVC\n",
    "\n",
    "from imblearn.combine import SMOTEENN\n",
    "\n",
    "from sklearn.metrics import confusion_matrix\n",
    "import itertools\n",
    "from itertools import cycle\n",
    "\n",
    "from sklearn.preprocessing import StandardScaler\n",
    "import os"
   ]
  },
  {
   "cell_type": "code",
   "execution_count": 32,
   "metadata": {},
   "outputs": [
    {
     "data": {
      "text/html": [
       "<div>\n",
       "<style scoped>\n",
       "    .dataframe tbody tr th:only-of-type {\n",
       "        vertical-align: middle;\n",
       "    }\n",
       "\n",
       "    .dataframe tbody tr th {\n",
       "        vertical-align: top;\n",
       "    }\n",
       "\n",
       "    .dataframe thead th {\n",
       "        text-align: right;\n",
       "    }\n",
       "</style>\n",
       "<table border=\"1\" class=\"dataframe\">\n",
       "  <thead>\n",
       "    <tr style=\"text-align: right;\">\n",
       "      <th></th>\n",
       "      <th>Time</th>\n",
       "      <th>V1</th>\n",
       "      <th>V2</th>\n",
       "      <th>V3</th>\n",
       "      <th>V4</th>\n",
       "      <th>V5</th>\n",
       "      <th>V6</th>\n",
       "      <th>V7</th>\n",
       "      <th>V8</th>\n",
       "      <th>V9</th>\n",
       "      <th>...</th>\n",
       "      <th>V21</th>\n",
       "      <th>V22</th>\n",
       "      <th>V23</th>\n",
       "      <th>V24</th>\n",
       "      <th>V25</th>\n",
       "      <th>V26</th>\n",
       "      <th>V27</th>\n",
       "      <th>V28</th>\n",
       "      <th>Amount</th>\n",
       "      <th>Class</th>\n",
       "    </tr>\n",
       "  </thead>\n",
       "  <tbody>\n",
       "    <tr>\n",
       "      <th>0</th>\n",
       "      <td>0.0</td>\n",
       "      <td>-1.359807</td>\n",
       "      <td>-0.072781</td>\n",
       "      <td>2.536347</td>\n",
       "      <td>1.378155</td>\n",
       "      <td>-0.338321</td>\n",
       "      <td>0.462388</td>\n",
       "      <td>0.239599</td>\n",
       "      <td>0.098698</td>\n",
       "      <td>0.363787</td>\n",
       "      <td>...</td>\n",
       "      <td>-0.018307</td>\n",
       "      <td>0.277838</td>\n",
       "      <td>-0.110474</td>\n",
       "      <td>0.066928</td>\n",
       "      <td>0.128539</td>\n",
       "      <td>-0.189115</td>\n",
       "      <td>0.133558</td>\n",
       "      <td>-0.021053</td>\n",
       "      <td>149.62</td>\n",
       "      <td>0</td>\n",
       "    </tr>\n",
       "    <tr>\n",
       "      <th>1</th>\n",
       "      <td>0.0</td>\n",
       "      <td>1.191857</td>\n",
       "      <td>0.266151</td>\n",
       "      <td>0.166480</td>\n",
       "      <td>0.448154</td>\n",
       "      <td>0.060018</td>\n",
       "      <td>-0.082361</td>\n",
       "      <td>-0.078803</td>\n",
       "      <td>0.085102</td>\n",
       "      <td>-0.255425</td>\n",
       "      <td>...</td>\n",
       "      <td>-0.225775</td>\n",
       "      <td>-0.638672</td>\n",
       "      <td>0.101288</td>\n",
       "      <td>-0.339846</td>\n",
       "      <td>0.167170</td>\n",
       "      <td>0.125895</td>\n",
       "      <td>-0.008983</td>\n",
       "      <td>0.014724</td>\n",
       "      <td>2.69</td>\n",
       "      <td>0</td>\n",
       "    </tr>\n",
       "    <tr>\n",
       "      <th>2</th>\n",
       "      <td>1.0</td>\n",
       "      <td>-1.358354</td>\n",
       "      <td>-1.340163</td>\n",
       "      <td>1.773209</td>\n",
       "      <td>0.379780</td>\n",
       "      <td>-0.503198</td>\n",
       "      <td>1.800499</td>\n",
       "      <td>0.791461</td>\n",
       "      <td>0.247676</td>\n",
       "      <td>-1.514654</td>\n",
       "      <td>...</td>\n",
       "      <td>0.247998</td>\n",
       "      <td>0.771679</td>\n",
       "      <td>0.909412</td>\n",
       "      <td>-0.689281</td>\n",
       "      <td>-0.327642</td>\n",
       "      <td>-0.139097</td>\n",
       "      <td>-0.055353</td>\n",
       "      <td>-0.059752</td>\n",
       "      <td>378.66</td>\n",
       "      <td>0</td>\n",
       "    </tr>\n",
       "    <tr>\n",
       "      <th>3</th>\n",
       "      <td>1.0</td>\n",
       "      <td>-0.966272</td>\n",
       "      <td>-0.185226</td>\n",
       "      <td>1.792993</td>\n",
       "      <td>-0.863291</td>\n",
       "      <td>-0.010309</td>\n",
       "      <td>1.247203</td>\n",
       "      <td>0.237609</td>\n",
       "      <td>0.377436</td>\n",
       "      <td>-1.387024</td>\n",
       "      <td>...</td>\n",
       "      <td>-0.108300</td>\n",
       "      <td>0.005274</td>\n",
       "      <td>-0.190321</td>\n",
       "      <td>-1.175575</td>\n",
       "      <td>0.647376</td>\n",
       "      <td>-0.221929</td>\n",
       "      <td>0.062723</td>\n",
       "      <td>0.061458</td>\n",
       "      <td>123.50</td>\n",
       "      <td>0</td>\n",
       "    </tr>\n",
       "    <tr>\n",
       "      <th>4</th>\n",
       "      <td>2.0</td>\n",
       "      <td>-1.158233</td>\n",
       "      <td>0.877737</td>\n",
       "      <td>1.548718</td>\n",
       "      <td>0.403034</td>\n",
       "      <td>-0.407193</td>\n",
       "      <td>0.095921</td>\n",
       "      <td>0.592941</td>\n",
       "      <td>-0.270533</td>\n",
       "      <td>0.817739</td>\n",
       "      <td>...</td>\n",
       "      <td>-0.009431</td>\n",
       "      <td>0.798278</td>\n",
       "      <td>-0.137458</td>\n",
       "      <td>0.141267</td>\n",
       "      <td>-0.206010</td>\n",
       "      <td>0.502292</td>\n",
       "      <td>0.219422</td>\n",
       "      <td>0.215153</td>\n",
       "      <td>69.99</td>\n",
       "      <td>0</td>\n",
       "    </tr>\n",
       "  </tbody>\n",
       "</table>\n",
       "<p>5 rows × 31 columns</p>\n",
       "</div>"
      ],
      "text/plain": [
       "   Time        V1        V2        V3        V4        V5        V6        V7  \\\n",
       "0   0.0 -1.359807 -0.072781  2.536347  1.378155 -0.338321  0.462388  0.239599   \n",
       "1   0.0  1.191857  0.266151  0.166480  0.448154  0.060018 -0.082361 -0.078803   \n",
       "2   1.0 -1.358354 -1.340163  1.773209  0.379780 -0.503198  1.800499  0.791461   \n",
       "3   1.0 -0.966272 -0.185226  1.792993 -0.863291 -0.010309  1.247203  0.237609   \n",
       "4   2.0 -1.158233  0.877737  1.548718  0.403034 -0.407193  0.095921  0.592941   \n",
       "\n",
       "         V8        V9  ...       V21       V22       V23       V24       V25  \\\n",
       "0  0.098698  0.363787  ... -0.018307  0.277838 -0.110474  0.066928  0.128539   \n",
       "1  0.085102 -0.255425  ... -0.225775 -0.638672  0.101288 -0.339846  0.167170   \n",
       "2  0.247676 -1.514654  ...  0.247998  0.771679  0.909412 -0.689281 -0.327642   \n",
       "3  0.377436 -1.387024  ... -0.108300  0.005274 -0.190321 -1.175575  0.647376   \n",
       "4 -0.270533  0.817739  ... -0.009431  0.798278 -0.137458  0.141267 -0.206010   \n",
       "\n",
       "        V26       V27       V28  Amount  Class  \n",
       "0 -0.189115  0.133558 -0.021053  149.62      0  \n",
       "1  0.125895 -0.008983  0.014724    2.69      0  \n",
       "2 -0.139097 -0.055353 -0.059752  378.66      0  \n",
       "3 -0.221929  0.062723  0.061458  123.50      0  \n",
       "4  0.502292  0.219422  0.215153   69.99      0  \n",
       "\n",
       "[5 rows x 31 columns]"
      ]
     },
     "execution_count": 32,
     "metadata": {},
     "output_type": "execute_result"
    }
   ],
   "source": [
    "# file located at '/data' in parent directory\n",
    "path = os.path.abspath(os.path.join(os.getcwd(), '..', 'data', 'creditcard.csv')) \n",
    "df = pd.read_csv(path)\n",
    "np.array(df.isnull().sum())\n",
    "\n",
    "df.head()"
   ]
  },
  {
   "cell_type": "code",
   "execution_count": 34,
   "metadata": {},
   "outputs": [],
   "source": [
    "df['new_amout'] = StandardScaler().fit_transform(df['Amount'].values.reshape(-1, 1))\n",
    "\n",
    "df.drop(['Time', 'Amount'], axis = 1, inplace = True)"
   ]
  },
  {
   "cell_type": "code",
   "execution_count": 35,
   "metadata": {},
   "outputs": [
    {
     "data": {
      "text/html": [
       "<div>\n",
       "<style scoped>\n",
       "    .dataframe tbody tr th:only-of-type {\n",
       "        vertical-align: middle;\n",
       "    }\n",
       "\n",
       "    .dataframe tbody tr th {\n",
       "        vertical-align: top;\n",
       "    }\n",
       "\n",
       "    .dataframe thead th {\n",
       "        text-align: right;\n",
       "    }\n",
       "</style>\n",
       "<table border=\"1\" class=\"dataframe\">\n",
       "  <thead>\n",
       "    <tr style=\"text-align: right;\">\n",
       "      <th></th>\n",
       "      <th>V1</th>\n",
       "      <th>V2</th>\n",
       "      <th>V3</th>\n",
       "      <th>V4</th>\n",
       "      <th>V5</th>\n",
       "      <th>V6</th>\n",
       "      <th>V7</th>\n",
       "      <th>V8</th>\n",
       "      <th>V9</th>\n",
       "      <th>V10</th>\n",
       "      <th>...</th>\n",
       "      <th>V21</th>\n",
       "      <th>V22</th>\n",
       "      <th>V23</th>\n",
       "      <th>V24</th>\n",
       "      <th>V25</th>\n",
       "      <th>V26</th>\n",
       "      <th>V27</th>\n",
       "      <th>V28</th>\n",
       "      <th>Class</th>\n",
       "      <th>new_amout</th>\n",
       "    </tr>\n",
       "  </thead>\n",
       "  <tbody>\n",
       "    <tr>\n",
       "      <th>0</th>\n",
       "      <td>-1.359807</td>\n",
       "      <td>-0.072781</td>\n",
       "      <td>2.536347</td>\n",
       "      <td>1.378155</td>\n",
       "      <td>-0.338321</td>\n",
       "      <td>0.462388</td>\n",
       "      <td>0.239599</td>\n",
       "      <td>0.098698</td>\n",
       "      <td>0.363787</td>\n",
       "      <td>0.090794</td>\n",
       "      <td>...</td>\n",
       "      <td>-0.018307</td>\n",
       "      <td>0.277838</td>\n",
       "      <td>-0.110474</td>\n",
       "      <td>0.066928</td>\n",
       "      <td>0.128539</td>\n",
       "      <td>-0.189115</td>\n",
       "      <td>0.133558</td>\n",
       "      <td>-0.021053</td>\n",
       "      <td>0</td>\n",
       "      <td>0.244964</td>\n",
       "    </tr>\n",
       "    <tr>\n",
       "      <th>1</th>\n",
       "      <td>1.191857</td>\n",
       "      <td>0.266151</td>\n",
       "      <td>0.166480</td>\n",
       "      <td>0.448154</td>\n",
       "      <td>0.060018</td>\n",
       "      <td>-0.082361</td>\n",
       "      <td>-0.078803</td>\n",
       "      <td>0.085102</td>\n",
       "      <td>-0.255425</td>\n",
       "      <td>-0.166974</td>\n",
       "      <td>...</td>\n",
       "      <td>-0.225775</td>\n",
       "      <td>-0.638672</td>\n",
       "      <td>0.101288</td>\n",
       "      <td>-0.339846</td>\n",
       "      <td>0.167170</td>\n",
       "      <td>0.125895</td>\n",
       "      <td>-0.008983</td>\n",
       "      <td>0.014724</td>\n",
       "      <td>0</td>\n",
       "      <td>-0.342475</td>\n",
       "    </tr>\n",
       "    <tr>\n",
       "      <th>2</th>\n",
       "      <td>-1.358354</td>\n",
       "      <td>-1.340163</td>\n",
       "      <td>1.773209</td>\n",
       "      <td>0.379780</td>\n",
       "      <td>-0.503198</td>\n",
       "      <td>1.800499</td>\n",
       "      <td>0.791461</td>\n",
       "      <td>0.247676</td>\n",
       "      <td>-1.514654</td>\n",
       "      <td>0.207643</td>\n",
       "      <td>...</td>\n",
       "      <td>0.247998</td>\n",
       "      <td>0.771679</td>\n",
       "      <td>0.909412</td>\n",
       "      <td>-0.689281</td>\n",
       "      <td>-0.327642</td>\n",
       "      <td>-0.139097</td>\n",
       "      <td>-0.055353</td>\n",
       "      <td>-0.059752</td>\n",
       "      <td>0</td>\n",
       "      <td>1.160686</td>\n",
       "    </tr>\n",
       "    <tr>\n",
       "      <th>3</th>\n",
       "      <td>-0.966272</td>\n",
       "      <td>-0.185226</td>\n",
       "      <td>1.792993</td>\n",
       "      <td>-0.863291</td>\n",
       "      <td>-0.010309</td>\n",
       "      <td>1.247203</td>\n",
       "      <td>0.237609</td>\n",
       "      <td>0.377436</td>\n",
       "      <td>-1.387024</td>\n",
       "      <td>-0.054952</td>\n",
       "      <td>...</td>\n",
       "      <td>-0.108300</td>\n",
       "      <td>0.005274</td>\n",
       "      <td>-0.190321</td>\n",
       "      <td>-1.175575</td>\n",
       "      <td>0.647376</td>\n",
       "      <td>-0.221929</td>\n",
       "      <td>0.062723</td>\n",
       "      <td>0.061458</td>\n",
       "      <td>0</td>\n",
       "      <td>0.140534</td>\n",
       "    </tr>\n",
       "    <tr>\n",
       "      <th>4</th>\n",
       "      <td>-1.158233</td>\n",
       "      <td>0.877737</td>\n",
       "      <td>1.548718</td>\n",
       "      <td>0.403034</td>\n",
       "      <td>-0.407193</td>\n",
       "      <td>0.095921</td>\n",
       "      <td>0.592941</td>\n",
       "      <td>-0.270533</td>\n",
       "      <td>0.817739</td>\n",
       "      <td>0.753074</td>\n",
       "      <td>...</td>\n",
       "      <td>-0.009431</td>\n",
       "      <td>0.798278</td>\n",
       "      <td>-0.137458</td>\n",
       "      <td>0.141267</td>\n",
       "      <td>-0.206010</td>\n",
       "      <td>0.502292</td>\n",
       "      <td>0.219422</td>\n",
       "      <td>0.215153</td>\n",
       "      <td>0</td>\n",
       "      <td>-0.073403</td>\n",
       "    </tr>\n",
       "  </tbody>\n",
       "</table>\n",
       "<p>5 rows × 30 columns</p>\n",
       "</div>"
      ],
      "text/plain": [
       "         V1        V2        V3        V4        V5        V6        V7  \\\n",
       "0 -1.359807 -0.072781  2.536347  1.378155 -0.338321  0.462388  0.239599   \n",
       "1  1.191857  0.266151  0.166480  0.448154  0.060018 -0.082361 -0.078803   \n",
       "2 -1.358354 -1.340163  1.773209  0.379780 -0.503198  1.800499  0.791461   \n",
       "3 -0.966272 -0.185226  1.792993 -0.863291 -0.010309  1.247203  0.237609   \n",
       "4 -1.158233  0.877737  1.548718  0.403034 -0.407193  0.095921  0.592941   \n",
       "\n",
       "         V8        V9       V10  ...       V21       V22       V23       V24  \\\n",
       "0  0.098698  0.363787  0.090794  ... -0.018307  0.277838 -0.110474  0.066928   \n",
       "1  0.085102 -0.255425 -0.166974  ... -0.225775 -0.638672  0.101288 -0.339846   \n",
       "2  0.247676 -1.514654  0.207643  ...  0.247998  0.771679  0.909412 -0.689281   \n",
       "3  0.377436 -1.387024 -0.054952  ... -0.108300  0.005274 -0.190321 -1.175575   \n",
       "4 -0.270533  0.817739  0.753074  ... -0.009431  0.798278 -0.137458  0.141267   \n",
       "\n",
       "        V25       V26       V27       V28  Class  new_amout  \n",
       "0  0.128539 -0.189115  0.133558 -0.021053      0   0.244964  \n",
       "1  0.167170  0.125895 -0.008983  0.014724      0  -0.342475  \n",
       "2 -0.327642 -0.139097 -0.055353 -0.059752      0   1.160686  \n",
       "3  0.647376 -0.221929  0.062723  0.061458      0   0.140534  \n",
       "4 -0.206010  0.502292  0.219422  0.215153      0  -0.073403  \n",
       "\n",
       "[5 rows x 30 columns]"
      ]
     },
     "execution_count": 35,
     "metadata": {},
     "output_type": "execute_result"
    }
   ],
   "source": [
    "df.head()"
   ]
  },
  {
   "cell_type": "markdown",
   "metadata": {},
   "source": [
    "1. Sampling method 1 : Fraud transaction 데이터 개수에 맞게 Normal transaction을 sampling"
   ]
  },
  {
   "cell_type": "code",
   "execution_count": 36,
   "metadata": {},
   "outputs": [
    {
     "name": "stderr",
     "output_type": "stream",
     "text": [
      "C:\\Anaconda3\\lib\\site-packages\\pandas\\core\\frame.py:3940: SettingWithCopyWarning: \n",
      "A value is trying to be set on a copy of a slice from a DataFrame\n",
      "\n",
      "See the caveats in the documentation: http://pandas.pydata.org/pandas-docs/stable/indexing.html#indexing-view-versus-copy\n",
      "  errors=errors)\n"
     ]
    },
    {
     "name": "stdout",
     "output_type": "stream",
     "text": [
      "443\n",
      "(443, 30)\n"
     ]
    }
   ],
   "source": [
    "import sys\n",
    "train_set_p = 0.1\n",
    "\n",
    "fraud_series = df[df['Class'] == 1]\n",
    "\n",
    "idx = fraud_series.index.values\n",
    "\n",
    "np.random.shuffle(idx)\n",
    "fraud_series.drop(idx[:int(idx.shape[0]*train_set_p)], inplace=True)\n",
    "df.drop(fraud_series.index.values, inplace=True)\n",
    "\n",
    "print(len(fraud_series))\n",
    "print(fraud_series.shape)"
   ]
  },
  {
   "cell_type": "code",
   "execution_count": 38,
   "metadata": {},
   "outputs": [
    {
     "data": {
      "text/html": [
       "<div>\n",
       "<style scoped>\n",
       "    .dataframe tbody tr th:only-of-type {\n",
       "        vertical-align: middle;\n",
       "    }\n",
       "\n",
       "    .dataframe tbody tr th {\n",
       "        vertical-align: top;\n",
       "    }\n",
       "\n",
       "    .dataframe thead th {\n",
       "        text-align: right;\n",
       "    }\n",
       "</style>\n",
       "<table border=\"1\" class=\"dataframe\">\n",
       "  <thead>\n",
       "    <tr style=\"text-align: right;\">\n",
       "      <th></th>\n",
       "      <th>V1</th>\n",
       "      <th>V2</th>\n",
       "      <th>V3</th>\n",
       "      <th>V4</th>\n",
       "      <th>V5</th>\n",
       "      <th>V6</th>\n",
       "      <th>V7</th>\n",
       "      <th>V8</th>\n",
       "      <th>V9</th>\n",
       "      <th>V10</th>\n",
       "      <th>...</th>\n",
       "      <th>V21</th>\n",
       "      <th>V22</th>\n",
       "      <th>V23</th>\n",
       "      <th>V24</th>\n",
       "      <th>V25</th>\n",
       "      <th>V26</th>\n",
       "      <th>V27</th>\n",
       "      <th>V28</th>\n",
       "      <th>Class</th>\n",
       "      <th>new_amout</th>\n",
       "    </tr>\n",
       "  </thead>\n",
       "  <tbody>\n",
       "    <tr>\n",
       "      <th>154684</th>\n",
       "      <td>-14.724627</td>\n",
       "      <td>7.875157</td>\n",
       "      <td>-21.872317</td>\n",
       "      <td>11.906170</td>\n",
       "      <td>-8.348734</td>\n",
       "      <td>-2.262846</td>\n",
       "      <td>-15.833443</td>\n",
       "      <td>0.077874</td>\n",
       "      <td>-6.356833</td>\n",
       "      <td>-13.261652</td>\n",
       "      <td>...</td>\n",
       "      <td>-2.362345</td>\n",
       "      <td>1.099557</td>\n",
       "      <td>1.037199</td>\n",
       "      <td>-1.036359</td>\n",
       "      <td>-0.254777</td>\n",
       "      <td>0.642343</td>\n",
       "      <td>2.161129</td>\n",
       "      <td>-1.401282</td>\n",
       "      <td>1</td>\n",
       "      <td>-0.349231</td>\n",
       "    </tr>\n",
       "    <tr>\n",
       "      <th>44556</th>\n",
       "      <td>-15.271362</td>\n",
       "      <td>8.326581</td>\n",
       "      <td>-22.338591</td>\n",
       "      <td>11.885313</td>\n",
       "      <td>-8.721334</td>\n",
       "      <td>-2.324307</td>\n",
       "      <td>-16.196419</td>\n",
       "      <td>0.512882</td>\n",
       "      <td>-6.333685</td>\n",
       "      <td>-13.175198</td>\n",
       "      <td>...</td>\n",
       "      <td>-2.356896</td>\n",
       "      <td>1.068019</td>\n",
       "      <td>1.085617</td>\n",
       "      <td>-1.039797</td>\n",
       "      <td>-0.182006</td>\n",
       "      <td>0.649921</td>\n",
       "      <td>2.149247</td>\n",
       "      <td>-1.406811</td>\n",
       "      <td>1</td>\n",
       "      <td>-0.349231</td>\n",
       "    </tr>\n",
       "    <tr>\n",
       "      <th>218442</th>\n",
       "      <td>-15.819179</td>\n",
       "      <td>8.775997</td>\n",
       "      <td>-22.804686</td>\n",
       "      <td>11.864868</td>\n",
       "      <td>-9.092361</td>\n",
       "      <td>-2.386893</td>\n",
       "      <td>-16.560368</td>\n",
       "      <td>0.948349</td>\n",
       "      <td>-6.310658</td>\n",
       "      <td>-13.088891</td>\n",
       "      <td>...</td>\n",
       "      <td>-2.350634</td>\n",
       "      <td>1.036362</td>\n",
       "      <td>1.136051</td>\n",
       "      <td>-1.043414</td>\n",
       "      <td>-0.108923</td>\n",
       "      <td>0.657437</td>\n",
       "      <td>2.136424</td>\n",
       "      <td>-1.411945</td>\n",
       "      <td>1</td>\n",
       "      <td>-0.349231</td>\n",
       "    </tr>\n",
       "    <tr>\n",
       "      <th>135718</th>\n",
       "      <td>-16.367923</td>\n",
       "      <td>9.223692</td>\n",
       "      <td>-23.270631</td>\n",
       "      <td>11.844777</td>\n",
       "      <td>-9.462037</td>\n",
       "      <td>-2.450444</td>\n",
       "      <td>-16.925152</td>\n",
       "      <td>1.384208</td>\n",
       "      <td>-6.287736</td>\n",
       "      <td>-13.002709</td>\n",
       "      <td>...</td>\n",
       "      <td>-2.343674</td>\n",
       "      <td>1.004602</td>\n",
       "      <td>1.188212</td>\n",
       "      <td>-1.047184</td>\n",
       "      <td>-0.035573</td>\n",
       "      <td>0.664900</td>\n",
       "      <td>2.122796</td>\n",
       "      <td>-1.416741</td>\n",
       "      <td>1</td>\n",
       "      <td>-0.349231</td>\n",
       "    </tr>\n",
       "    <tr>\n",
       "      <th>77348</th>\n",
       "      <td>-16.917468</td>\n",
       "      <td>9.669900</td>\n",
       "      <td>-23.736443</td>\n",
       "      <td>11.824990</td>\n",
       "      <td>-9.830548</td>\n",
       "      <td>-2.514829</td>\n",
       "      <td>-17.290657</td>\n",
       "      <td>1.820408</td>\n",
       "      <td>-6.264903</td>\n",
       "      <td>-12.916636</td>\n",
       "      <td>...</td>\n",
       "      <td>-2.336111</td>\n",
       "      <td>0.972755</td>\n",
       "      <td>1.241866</td>\n",
       "      <td>-1.051086</td>\n",
       "      <td>0.038009</td>\n",
       "      <td>0.672317</td>\n",
       "      <td>2.108471</td>\n",
       "      <td>-1.421243</td>\n",
       "      <td>1</td>\n",
       "      <td>-0.349231</td>\n",
       "    </tr>\n",
       "  </tbody>\n",
       "</table>\n",
       "<p>5 rows × 30 columns</p>\n",
       "</div>"
      ],
      "text/plain": [
       "               V1        V2         V3         V4        V5        V6  \\\n",
       "154684 -14.724627  7.875157 -21.872317  11.906170 -8.348734 -2.262846   \n",
       "44556  -15.271362  8.326581 -22.338591  11.885313 -8.721334 -2.324307   \n",
       "218442 -15.819179  8.775997 -22.804686  11.864868 -9.092361 -2.386893   \n",
       "135718 -16.367923  9.223692 -23.270631  11.844777 -9.462037 -2.450444   \n",
       "77348  -16.917468  9.669900 -23.736443  11.824990 -9.830548 -2.514829   \n",
       "\n",
       "               V7        V8        V9        V10  ...       V21       V22  \\\n",
       "154684 -15.833443  0.077874 -6.356833 -13.261652  ... -2.362345  1.099557   \n",
       "44556  -16.196419  0.512882 -6.333685 -13.175198  ... -2.356896  1.068019   \n",
       "218442 -16.560368  0.948349 -6.310658 -13.088891  ... -2.350634  1.036362   \n",
       "135718 -16.925152  1.384208 -6.287736 -13.002709  ... -2.343674  1.004602   \n",
       "77348  -17.290657  1.820408 -6.264903 -12.916636  ... -2.336111  0.972755   \n",
       "\n",
       "             V23       V24       V25       V26       V27       V28  Class  \\\n",
       "154684  1.037199 -1.036359 -0.254777  0.642343  2.161129 -1.401282      1   \n",
       "44556   1.085617 -1.039797 -0.182006  0.649921  2.149247 -1.406811      1   \n",
       "218442  1.136051 -1.043414 -0.108923  0.657437  2.136424 -1.411945      1   \n",
       "135718  1.188212 -1.047184 -0.035573  0.664900  2.122796 -1.416741      1   \n",
       "77348   1.241866 -1.051086  0.038009  0.672317  2.108471 -1.421243      1   \n",
       "\n",
       "        new_amout  \n",
       "154684  -0.349231  \n",
       "44556   -0.349231  \n",
       "218442  -0.349231  \n",
       "135718  -0.349231  \n",
       "77348   -0.349231  \n",
       "\n",
       "[5 rows x 30 columns]"
      ]
     },
     "execution_count": 38,
     "metadata": {},
     "output_type": "execute_result"
    }
   ],
   "source": [
    "fraud_series.head()"
   ]
  },
  {
   "cell_type": "code",
   "execution_count": 39,
   "metadata": {},
   "outputs": [],
   "source": [
    "#normal dataset with the same size of the fraud_series sets\n",
    "\n",
    "normal_series = df[df['Class'] == 0]\n",
    "idx = normal_series.index.values\n",
    "np.random.shuffle(idx)\n",
    "normal_series.drop(idx[fraud_series.shape[0]: ], inplace=True)\n",
    "df.drop(normal_series.index.values, inplace=True)\n"
   ]
  },
  {
   "cell_type": "code",
   "execution_count": 43,
   "metadata": {},
   "outputs": [
    {
     "name": "stdout",
     "output_type": "stream",
     "text": [
      "443\n"
     ]
    }
   ],
   "source": [
    "print(len(normal_series))"
   ]
  },
  {
   "cell_type": "code",
   "execution_count": 40,
   "metadata": {},
   "outputs": [],
   "source": [
    "#build trainig dataset\n",
    "\n",
    "new_df = pd.concat([normal_series, fraud_series])\n",
    "new_df.reset_index(inplace=True, drop=True)\n",
    "y = new_df['Class'].values.reshape(-1, 1)\n",
    "new_df.drop(['Class'], axis = 1, inplace=True)\n",
    "X = new_df\n",
    "\n",
    "#len(df[df['Class']==0])\n"
   ]
  },
  {
   "cell_type": "markdown",
   "metadata": {},
   "source": [
    "2. 전체 데이터셋을 활용한다. (시간이 너무 오래걸린다.) "
   ]
  },
  {
   "cell_type": "code",
   "execution_count": 62,
   "metadata": {},
   "outputs": [],
   "source": [
    "#build new trainig dataset\n",
    "\n",
    "#y = df['Class'].values.reshape(-1, 1)\n",
    "#df.drop(['Class'], axis = 1, inplace=True)\n",
    "#X = df\n",
    "\n",
    "#len(df[df['Class']==0])"
   ]
  },
  {
   "cell_type": "markdown",
   "metadata": {},
   "source": [
    "### - Fraud transaction과 normal transaction의 수가 같도록 sampling 한 뒤, 그 set을 train/test로 split해서 SVM model을 적합시켰다. "
   ]
  },
  {
   "cell_type": "code",
   "execution_count": 41,
   "metadata": {},
   "outputs": [],
   "source": [
    "from sklearn.svm import SVC\n",
    "from sklearn.model_selection import train_test_split\n",
    "from sklearn.metrics import accuracy_score\n",
    "from sklearn.model_selection import GridSearchCV\n",
    "from sklearn.preprocessing import MinMaxScaler\n",
    "from sklearn.metrics import recall_score\n",
    "from sklearn.metrics import confusion_matrix"
   ]
  },
  {
   "cell_type": "code",
   "execution_count": 42,
   "metadata": {},
   "outputs": [
    {
     "name": "stdout",
     "output_type": "stream",
     "text": [
      "X_train.shape:  (620, 29)\n",
      "X_test.shape:  (266, 29)\n",
      "y_train.shape:  (620,)\n",
      "y_test.shape:  (266,)\n"
     ]
    }
   ],
   "source": [
    "#attributes that will be used by the gridsearchCV algorithm\n",
    "attr = {'C' : [0.1, 1, 2, 5, 10, 25, 100],\n",
    "       'gamma' : [1e-1, 1e-2, 1e-3]}\n",
    "\n",
    "X_train, X_test, y_train, y_test = train_test_split(X, y.ravel(), test_size=0.3, random_state = 10)\n",
    "\n",
    "print(\"X_train.shape: \", X_train.shape)\n",
    "print(\"X_test.shape: \", X_test.shape)\n",
    "print(\"y_train.shape: \", y_train.shape)\n",
    "print(\"y_test.shape: \", y_test.shape)"
   ]
  },
  {
   "cell_type": "code",
   "execution_count": 43,
   "metadata": {},
   "outputs": [
    {
     "name": "stdout",
     "output_type": "stream",
     "text": [
      "Accuracy:  0.9548872180451128\n"
     ]
    }
   ],
   "source": [
    "model = SVC()\n",
    "classif = GridSearchCV(model, attr, cv=5)\n",
    "classif.fit(X_train, y_train)\n",
    "y_pred = classif.predict(X_test)\n",
    "print('Accuracy: ', accuracy_score(y_pred, y_test))"
   ]
  },
  {
   "cell_type": "markdown",
   "metadata": {},
   "source": [
    "#### 아래는 fraud/normal 데이터 수가 같도록 조정한 뒤의 new_df set을 기준으로 SVM model을 학습시킨 뒤, 그 모델을 전체 데이터셋에 적용해 본 것이다. "
   ]
  },
  {
   "cell_type": "code",
   "execution_count": 44,
   "metadata": {},
   "outputs": [
    {
     "name": "stdout",
     "output_type": "stream",
     "text": [
      "[[236660  47212]\n",
      " [     3     46]]\n"
     ]
    }
   ],
   "source": [
    "y_all = df['Class'].values.reshape(-1, 1)\n",
    "df.drop(['Class'], axis=1, inplace=True)\n",
    "X_all = df\n",
    "y_pred_all = classif.predict(X_all)\n",
    "print(confusion_matrix(y_all, y_pred_all))"
   ]
  },
  {
   "cell_type": "code",
   "execution_count": 45,
   "metadata": {},
   "outputs": [
    {
     "name": "stdout",
     "output_type": "stream",
     "text": [
      "0.9387755102040817\n"
     ]
    }
   ],
   "source": [
    "print(recall_score(y_all, y_pred_all))"
   ]
  },
  {
   "cell_type": "markdown",
   "metadata": {},
   "source": [
    "\n",
    "###  * Fraud와 normal의 비율이 같은 set의 test set에 SVM을 적용하여 confusion matrix, average precision score, auc, ROC 등을 구해보았다."
   ]
  },
  {
   "cell_type": "code",
   "execution_count": 46,
   "metadata": {},
   "outputs": [],
   "source": [
    "from sklearn.metrics import roc_auc_score, roc_curve, auc, average_precision_score\n",
    "from mlxtend.plotting import plot_confusion_matrix"
   ]
  },
  {
   "cell_type": "code",
   "execution_count": 47,
   "metadata": {},
   "outputs": [],
   "source": [
    "con_mat = confusion_matrix(y_test, y_pred)\n",
    "average_precision = average_precision_score(y_test, y_pred)\n",
    "cls_report = classification_report(y_test, y_pred)"
   ]
  },
  {
   "cell_type": "code",
   "execution_count": 48,
   "metadata": {},
   "outputs": [
    {
     "name": "stdout",
     "output_type": "stream",
     "text": [
      "*****************************************************************\n",
      "Area under the curve : 0.953691\n",
      "Average precision-recall score RF: 0.9441044016290727\n",
      "[[136   2]\n",
      " [ 10 118]]\n",
      "              precision    recall  f1-score   support\n",
      "\n",
      "           0       0.93      0.99      0.96       138\n",
      "           1       0.98      0.92      0.95       128\n",
      "\n",
      "    accuracy                           0.95       266\n",
      "   macro avg       0.96      0.95      0.95       266\n",
      "weighted avg       0.96      0.95      0.95       266\n",
      "\n",
      "*****************************************************************\n"
     ]
    }
   ],
   "source": [
    "print(\"*****************************************************************\")\n",
    "print(\"Area under the curve : %f\" % (roc_auc_score(y_test, y_pred)))\n",
    "print(\"Average precision-recall score RF: {}\".format(average_precision))\n",
    "print(con_mat)\n",
    "print(cls_report)\n",
    "print(\"*****************************************************************\")"
   ]
  },
  {
   "cell_type": "code",
   "execution_count": 49,
   "metadata": {},
   "outputs": [
    {
     "data": {
      "image/png": "[encoded data removed]",
      "text/plain": [
       "<Figure size 432x288 with 1 Axes>"
      ]
     },
     "metadata": {
      "needs_background": "light"
     },
     "output_type": "display_data"
    },
    {
     "name": "stdout",
     "output_type": "stream",
     "text": [
      "The accuracy is 95.48872180451127 %\n",
      "The recall from the confusion matrix is 92.1875 %\n"
     ]
    },
    {
     "name": "stderr",
     "output_type": "stream",
     "text": [
      "C:\\Anaconda3\\lib\\site-packages\\matplotlib\\figure.py:98: MatplotlibDeprecationWarning: \n",
      "Adding an axes using the same arguments as a previous axes currently reuses the earlier instance.  In a future version, a new instance will always be created and returned.  Meanwhile, this warning can be suppressed, and the future behavior ensured, by passing a unique label to each axes instance.\n",
      "  \"Adding an axes using the same arguments as a previous axes \"\n"
     ]
    },
    {
     "data": {
      "image/png": "[encoded data removed]",
      "text/plain": [
       "<Figure size 432x288 with 1 Axes>"
      ]
     },
     "metadata": {
      "needs_background": "light"
     },
     "output_type": "display_data"
    },
    {
     "data": {
      "image/png": "[encoded data removed]",
      "text/plain": [
       "<Figure size 576x576 with 1 Axes>"
      ]
     },
     "metadata": {
      "needs_background": "light"
     },
     "output_type": "display_data"
    }
   ],
   "source": [
    "def confus_matrix(CM):\n",
    "    fig, ax = plot_confusion_matrix(conf_mat= CM)\n",
    "    plt.title(\"The Confusion Matrix of full dataset using best_parameters\")\n",
    "    plt.ylabel(\"Actual\")\n",
    "    plt.xlabel(\"Predicted\")\n",
    "    plt.show()\n",
    "    print(\"The accuracy is \"+str((CM[1,1]+CM[0,0])/(CM[0,0] + CM[0,1]+CM[1,0] + CM[1,1])*100) + \" %\")\n",
    "    print(\"The recall from the confusion matrix is \"+ str(CM[1,1]/(CM[1,0] + CM[1,1])*100) +\" %\")\n",
    "confus_matrix(con_mat)\n",
    "\n",
    "precision, recall, _ = precision_recall_curve(y_test, y_pred)\n",
    "plt.step(recall, precision, color='b', alpha=0.2, where='post')\n",
    "plt.fill_between(recall, precision, step='post', alpha=0.2, color='b')\n",
    "\n",
    "plt.xlabel('Recall')\n",
    "plt.ylabel('Precision')\n",
    "plt.ylim([0.0, 1.05])\n",
    "plt.xlim([0.0, 1.0])\n",
    "plt.title('2-class Precision-Recall curve: AP={0:0.2f}'.format(average_precision))\n",
    "\n",
    "fpr_rf, tpr_rf, _ = roc_curve(y_test, y_pred)\n",
    "roc_auc_rf = auc(fpr_rf, tpr_rf)\n",
    "plt.figure(figsize=(8,8))\n",
    "plt.xlim([-0.01, 1.00])\n",
    "plt.ylim([-0.01, 1.01])\n",
    "plt.plot(fpr_rf, tpr_rf, lw=1, label='{} curve (AUC = {:0.2f})'.format('RF',roc_auc_rf))\n",
    "\n",
    "plt.xlabel('False Positive Rate', fontsize=16)\n",
    "plt.ylabel('True Positive Rate', fontsize=16)\n",
    "plt.title('ROC curve', fontsize=16)\n",
    "plt.legend(loc='lower right', fontsize=13)\n",
    "plt.plot([0, 1], [0, 1], color='navy', lw=1, linestyle='--')\n",
    "plt.axes().set_aspect('equal')\n",
    "plt.show()"
   ]
  },
  {
   "cell_type": "markdown",
   "metadata": {},
   "source": [
    "Fraud 개수에 맞춰 적합시킨 SVM model을 whole dataset에 대해 적용하여 auc, confusion matrix, ROC curve를 그려보았다. "
   ]
  },
  {
   "cell_type": "code",
   "execution_count": 50,
   "metadata": {},
   "outputs": [
    {
     "name": "stdout",
     "output_type": "stream",
     "text": [
      "*****************************************************************\n",
      "Area under the curve : 0.886231\n",
      "Average precision-recall score RF: 0.0009243517837514333\n",
      "[[236660  47212]\n",
      " [     3     46]]\n",
      "              precision    recall  f1-score   support\n",
      "\n",
      "           0       1.00      0.83      0.91    283872\n",
      "           1       0.00      0.94      0.00        49\n",
      "\n",
      "    accuracy                           0.83    283921\n",
      "   macro avg       0.50      0.89      0.46    283921\n",
      "weighted avg       1.00      0.83      0.91    283921\n",
      "\n",
      "*****************************************************************\n"
     ]
    }
   ],
   "source": [
    "con_mat = confusion_matrix(y_all, y_pred_all)\n",
    "average_precision = average_precision_score(y_all, y_pred_all)\n",
    "cls_report = classification_report(y_all, y_pred_all)\n",
    "\n",
    "print(\"*****************************************************************\")\n",
    "print(\"Area under the curve : %f\" % (roc_auc_score(y_all, y_pred_all)))\n",
    "print(\"Average precision-recall score RF: {}\".format(average_precision))\n",
    "print(con_mat)\n",
    "print(cls_report)\n",
    "print(\"*****************************************************************\")"
   ]
  },
  {
   "cell_type": "code",
   "execution_count": 51,
   "metadata": {},
   "outputs": [
    {
     "data": {
      "image/png": "[encoded data removed]",
      "text/plain": [
       "<Figure size 432x288 with 1 Axes>"
      ]
     },
     "metadata": {
      "needs_background": "light"
     },
     "output_type": "display_data"
    },
    {
     "name": "stdout",
     "output_type": "stream",
     "text": [
      "The accuracy is 83.37037415337365 %\n",
      "The recall from the confusion matrix is 93.87755102040816 %\n"
     ]
    },
    {
     "name": "stderr",
     "output_type": "stream",
     "text": [
      "C:\\Anaconda3\\lib\\site-packages\\matplotlib\\figure.py:98: MatplotlibDeprecationWarning: \n",
      "Adding an axes using the same arguments as a previous axes currently reuses the earlier instance.  In a future version, a new instance will always be created and returned.  Meanwhile, this warning can be suppressed, and the future behavior ensured, by passing a unique label to each axes instance.\n",
      "  \"Adding an axes using the same arguments as a previous axes \"\n"
     ]
    },
    {
     "data": {
      "image/png": "[encoded data removed]",
      "text/plain": [
       "<Figure size 576x576 with 1 Axes>"
      ]
     },
     "metadata": {
      "needs_background": "light"
     },
     "output_type": "display_data"
    }
   ],
   "source": [
    "def confus_matrix(CM):\n",
    "    fig, ax = plot_confusion_matrix(conf_mat= CM)\n",
    "    plt.title(\"The Confusion Matrix of full dataset using best_parameters\")\n",
    "    plt.ylabel(\"Actual\")\n",
    "    plt.xlabel(\"Predicted\")\n",
    "    plt.show()\n",
    "    print(\"The accuracy is \"+str((CM[1,1]+CM[0,0])/(CM[0,0] + CM[0,1]+CM[1,0] + CM[1,1])*100) + \" %\")\n",
    "    print(\"The recall from the confusion matrix is \"+ str(CM[1,1]/(CM[1,0] + CM[1,1])*100) +\" %\")\n",
    "confus_matrix(con_mat)\n",
    "\n",
    "fpr_rf, tpr_rf, _ = roc_curve(y_all, y_pred_all)\n",
    "roc_auc_rf = auc(fpr_rf, tpr_rf)\n",
    "plt.figure(figsize=(8,8))\n",
    "plt.xlim([-0.01, 1.00])\n",
    "plt.ylim([-0.01, 1.01])\n",
    "plt.plot(fpr_rf, tpr_rf, lw=1, label='{} curve (AUC = {:0.2f})'.format('RF',roc_auc_rf))\n",
    "\n",
    "plt.xlabel('False Positive Rate', fontsize=16)\n",
    "plt.ylabel('True Positive Rate', fontsize=16)\n",
    "plt.title('ROC curve', fontsize=16)\n",
    "plt.legend(loc='lower right', fontsize=13)\n",
    "plt.plot([0, 1], [0, 1], color='navy', lw=1, linestyle='--')\n",
    "plt.axes().set_aspect('equal')\n",
    "plt.show()"
   ]
  }
 ],
 "metadata": {
  "kernelspec": {
   "display_name": "Python 3",
   "language": "python",
   "name": "python3"
  },
  "language_info": {
   "codemirror_mode": {
    "name": "ipython",
    "version": 3
   },
   "file_extension": ".py",
   "mimetype": "text/x-python",
   "name": "python",
   "nbconvert_exporter": "python",
   "pygments_lexer": "ipython3",
   "version": "3.7.3"
  }
 },
 "nbformat": 4,
 "nbformat_minor": 2
}
