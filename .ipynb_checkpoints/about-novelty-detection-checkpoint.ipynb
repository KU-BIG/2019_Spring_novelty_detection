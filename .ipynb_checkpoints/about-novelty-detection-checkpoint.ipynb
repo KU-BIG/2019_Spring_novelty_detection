{
 "cells": [
  {
   "cell_type": "markdown",
   "metadata": {},
   "source": [
    "# About Novelty Detection and its evaluation metrics"
   ]
  },
  {
   "cell_type": "markdown",
   "metadata": {
    "slideshow": {
     "slide_type": "slide"
    }
   },
   "source": [
    "## References\n",
    "\n",
    "* [A Survey on Unsupervised Outlier Detection in High-Dimensional Numerical Data](https://onlinelibrary.wiley.com/doi/10.1002/sam.11161)\n",
    "* [An Experiment with the Edited Nearest-Neighbor Rule](https://ieeexplore.ieee.org/document/4309523)\n",
    "* [Anomaly detection - A survey](http://cucis.ece.northwestern.edu/projects/DMS/publications/AnomalyDetection.pdf)\n",
    "* [Improving classification accuracy by identifying and removing instances that should be misclassified](https://ieeexplore.ieee.org/document/6033571/)\n",
    "* [There and back again- Outlier detection between statistical reasoning and data mining algorithms](http://wires.wiley.com/WileyCDA/WiresArticle/wisId-WIDM1280.html)\n",
    "* [There and back again- Outlier detection between statistical reasoning and data mining algorithms(Slides)](http://www.informatik.tuwien.ac.at/teaching/phdschool/talkTUVienna.pdf)"
   ]
  },
  {
   "cell_type": "markdown",
   "metadata": {
    "slideshow": {
     "slide_type": "slide"
    }
   },
   "source": [
    "## Definition\n",
    "\n",
    "### 1) Outlier Detection ( = Anomaly detection )\n",
    "- **Identification of rare items, events or observations which raise suspicions by differing significantly from the majority of the data**\n",
    "- Three methods for anomaly detectoin\n",
    "    * **Unsupervised** : Unlabeled test data set under the assumption that the majority of the instances in the data set are normal\n",
    "    * **Supervised** : Labeled, imbalanced data set (normal/abnormal)\n",
    "    * **Semi-Supervised** : Model representing normal behavior from a given normal training data set. \n",
    "- e.g.) Bank fraud, Structual defect, System health monitoring, Intrusion detection, Fault detection, Ecosystem disturbances\n",
    "- Source : [Wikipedia](https://goo.gl/YOdhxK)\n",
    "- By [scikit-learn](https://goo.gl/csTPJr) : ***'Training data contains outliers'***\n",
    "\n"
   ]
  },
  {
   "cell_type": "markdown",
   "metadata": {
    "slideshow": {
     "slide_type": "slide"
    }
   },
   "source": [
    "### 2) Novelty Detection\n",
    "- **Mechanism by which an intelligent organism is able to identify an incoming sensory pattern as being hitherto unknown**\n",
    "- The principle is long known in **neurophysiology(신경생리학)**\n",
    "- 'Early neural modeling attempts were by Yehuda Salu(1988)'\n",
    "- Source : [Wikipedia](https://goo.gl/6mntxw)\n",
    "- By [scikit-learn](https://goo.gl/csTPJr) : ***'Training data is not polluted by outliers'***\n",
    "    \n"
   ]
  },
  {
   "cell_type": "markdown",
   "metadata": {},
   "source": [
    "\n",
    "## Evaluation Metrics for Anomaly & Novelty Detection\n",
    "\n",
    "### 1) Metrics for Out-of-Distribution Detection\n",
    "\n",
    "\n",
    "![](img/roc.png)\n",
    "\n",
    "- ROC (Receiver Operating Characteristics)\n",
    "  - **False positive rate(FPR)** versus the **true positive rate(TPR)(=Recall)** for a number of different candidate threshold values between 0.0 and 1.0\n",
    "  - 0~1사이의 threshold를 변경해가면서, 그 때의 **False positive rate(FPR)** 대 **True positive rate(TPR)(=Recall)**\n",
    "  - In other words, it plots the false alarm rate versus the hit rate\n",
    "  - False alarm rate와 hit rate를 나타내는 것으로도 볼 수 있다\n",
    "- AUC (Area Under the Curve)\n",
    "  - Literally area under the ROC curve\n",
    "  - ROC curve 아래의 면적\n",
    "  - AUC ranges in value from 0 to 1. A model whose predictions are 100% wrong has an AUC of 0.0; one whose predictions are 100% correct has an AUC of 1.0.\n",
    "  - AUC는 0부터 1까지의 범위를 가진다. 100% 틀린 예측을 하는 모델의 AUC는 0이고, 100% 맞는 예측을 하는 모델의 AUC는 1이다\n",
    "- PRC (Precision-Recall Curve)\n",
    "  - **Precision** versus the **Recall**\n",
    "  - Precision 대 Recall\n",
    "  - To know how good a model is at predicting the positive class\n",
    "  - 모델이 positive class를 얼마나 잘 예측하는지를 보기 위함\n",
    "\n",
    "### 2) Better metric for class-imbalanced data\n",
    "\n",
    "- Precision captures false positive more sensitively than FPR, **thus PRC is more appropriate than ROC when it comes to class-imbalanced problem**\n",
    "- Precision은 false positive를 FPR에 비해 훨씬 더 민감하게 잡아낸다. **따라서 클래스의 불균형이 있는 문제에서는 ROC보다 PRC를 보는 것이 더 낫다.**\n",
    "\n",
    "> e.g.) 1 million samples, 100 positive and others are all negative\n",
    "\n",
    "> case1) 100 predicted positive, 90 true positive  \n",
    "> case2) 2000 predicted positive, 90 true positive  \n",
    "\n",
    "> case1) 0.9 TPR, 0.00001 FPR  \n",
    "> case2) 0.9 TPR, 0.00191 FPR\n",
    "> FPR difference = 0.00190\n",
    "\n",
    "> case1) 0.9 Recall, 0.9 Precision  \n",
    "> case2) 0.9 Recall, 0.045 Precision\n",
    "> Precision difference = 0.855\n",
    "\n",
    "> Upon same false positive difference, precision shows bigger difference than FPR. In other words, precision is more sensitive to false positives  \n",
    "> 같은 수준의 false positive의 차이에 대해서, precision이 FPR보다 더 큰 차이를 보인다. 다시 말하면, precision이 false positive에 대해 더 민감하게 반응한다"
   ]
  }
 ],
 "metadata": {
  "celltoolbar": "Slideshow",
  "kernelspec": {
   "display_name": "Python 3",
   "language": "python",
   "name": "python3"
  },
  "language_info": {
   "codemirror_mode": {
    "name": "ipython",
    "version": 3
   },
   "file_extension": ".py",
   "mimetype": "text/x-python",
   "name": "python",
   "nbconvert_exporter": "python",
   "pygments_lexer": "ipython3",
   "version": "3.8.5"
  },
  "toc": {
   "base_numbering": 1,
   "nav_menu": {},
   "number_sections": true,
   "sideBar": true,
   "skip_h1_title": false,
   "title_cell": "Table of Contents",
   "title_sidebar": "Contents",
   "toc_cell": false,
   "toc_position": {
    "height": "calc(100% - 180px)",
    "left": "10px",
    "top": "150px",
    "width": "175px"
   },
   "toc_section_display": true,
   "toc_window_display": false
  },
  "varInspector": {
   "cols": {
    "lenName": 16,
    "lenType": 16,
    "lenVar": 40
   },
   "kernels_config": {
    "python": {
     "delete_cmd_postfix": "",
     "delete_cmd_prefix": "del ",
     "library": "var_list.py",
     "varRefreshCmd": "print(var_dic_list())"
    },
    "r": {
     "delete_cmd_postfix": ") ",
     "delete_cmd_prefix": "rm(",
     "library": "var_list.r",
     "varRefreshCmd": "cat(var_dic_list()) "
    }
   },
   "types_to_exclude": [
    "module",
    "function",
    "builtin_function_or_method",
    "instance",
    "_Feature"
   ],
   "window_display": false
  }
 },
 "nbformat": 4,
 "nbformat_minor": 2
}
